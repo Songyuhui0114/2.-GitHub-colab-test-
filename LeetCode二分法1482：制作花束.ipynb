{
  "nbformat": 4,
  "nbformat_minor": 0,
  "metadata": {
    "colab": {
      "provenance": [],
      "authorship_tag": "ABX9TyPPfArXJUj1ZWV9sqkmpPSC",
      "include_colab_link": true
    },
    "kernelspec": {
      "name": "python3",
      "display_name": "Python 3"
    },
    "language_info": {
      "name": "python"
    }
  },
  "cells": [
    {
      "cell_type": "markdown",
      "metadata": {
        "id": "view-in-github",
        "colab_type": "text"
      },
      "source": [
        "<a href=\"https://colab.research.google.com/github/Songyuhui0114/Deep-learning.Google-colab/blob/main/LeetCode%E4%BA%8C%E5%88%86%E6%B3%951482%EF%BC%9A%E5%88%B6%E4%BD%9C%E8%8A%B1%E6%9D%9F.ipynb\" target=\"_parent\"><img src=\"https://colab.research.google.com/assets/colab-badge.svg\" alt=\"Open In Colab\"/></a>"
      ]
    },
    {
      "cell_type": "markdown",
      "source": [
        "#LeetCode 1482：Binary Search Algorithm - Make Flower bouquets"
      ],
      "metadata": {
        "id": "Ly2bjGGYQQxC"
      }
    },
    {
      "cell_type": "markdown",
      "source": [
        "## The Fastes Codes"
      ],
      "metadata": {
        "id": "7-OFvgTQQ1o6"
      }
    },
    {
      "cell_type": "code",
      "source": [
        "class Solution:\n",
        "    def minDays(self, bloomDay: list[int], m: int, k: int) -> int:\n",
        "        n = len(bloomDay)\n",
        "        if n < m * k:\n",
        "            return -1\n",
        "        b = sorted(range(n), key=bloomDay.__getitem__, reverse=True)\n",
        "        c = bloomDay[b[-m * k]]\n",
        "        if k == 1:\n",
        "            return c\n",
        "        a = sorted((b.pop() for i in range(m * k)), reverse=True)\n",
        "        s = 0\n",
        "        i = a.pop()\n",
        "        t = [i, i]\n",
        "        d = {i: t}\n",
        "        while a:\n",
        "            if i == a[-1] - 1:\n",
        "                i = a.pop()\n",
        "                continue\n",
        "            t[1] = i\n",
        "            d[i] = t\n",
        "            s += (i - t[0] + 1) // k\n",
        "            i = a.pop()\n",
        "            t = [i, i]\n",
        "            d[i] = t\n",
        "        t[1] = i\n",
        "        d[i] = t\n",
        "        s += (i - t[0] + 1) // k\n",
        "        if s == m:\n",
        "            return c\n",
        "        while s < m:\n",
        "            i = b.pop()\n",
        "            u, v = i - 1, i + 1\n",
        "            if u in d and v in d:\n",
        "                u, v = d[u], d[v]\n",
        "                s += (v[1] - u[0] + 1) // k - (u[1] - u[0] + 1) // k - (v[1] - v[0] + 1) // k\n",
        "                v[0] = u[0]\n",
        "                d[v[0]] = v\n",
        "                continue\n",
        "            if u in d:\n",
        "                d[i] = d[u]\n",
        "                d[i][1] = i\n",
        "                if (i - d[i][0] + 1) % k == 0:\n",
        "                    s += 1\n",
        "                continue\n",
        "            if v in d:\n",
        "                d[i] = d[v]\n",
        "                d[i][0] = i\n",
        "                if (d[i][1] - i + 1) % k == 0:\n",
        "                    s += 1\n",
        "                continue\n",
        "            d[i] = [i, i]\n",
        "        return bloomDay[i]"
      ],
      "metadata": {
        "id": "K2LZzAbEQzwi"
      },
      "execution_count": 1,
      "outputs": []
    },
    {
      "cell_type": "markdown",
      "source": [
        "##The Least Room-occupied Codes"
      ],
      "metadata": {
        "id": "d5Hw4l6FQ9C7"
      }
    },
    {
      "cell_type": "code",
      "source": [
        "class Solution:\n",
        "    def minDays(self, bloomDay: list[int], m: int, k: int) -> int:\n",
        "        if len(bloomDay) < m*k:\n",
        "            return -1\n",
        "\n",
        "        def canMake(day):\n",
        "            need = k\n",
        "            bouquets = 0\n",
        "            for bloom in bloomDay:\n",
        "                if bloom > day:\n",
        "                    need = k\n",
        "                    continue\n",
        "                \n",
        "                need -= 1\n",
        "                if need == 0:\n",
        "                    bouquets += 1\n",
        "                    need = k\n",
        "            return bouquets>=m\n",
        "            \n",
        "\n",
        "        l,r = 1, 10**9+1\n",
        "        while l<r:\n",
        "            mid = l + (r-l)//2\n",
        "            if canMake(mid):\n",
        "                r = mid\n",
        "            else:\n",
        "                l = mid+1\n",
        "        return l if l <10**9+1 else -1"
      ],
      "metadata": {
        "id": "qvNHj2VIQ8k-"
      },
      "execution_count": 2,
      "outputs": []
    },
    {
      "cell_type": "markdown",
      "source": [
        "##The Codes made by LeetCode-Solutions"
      ],
      "metadata": {
        "id": "mBvEJKqWcCX9"
      }
    },
    {
      "cell_type": "code",
      "source": [
        "class Solution:\n",
        "    def minDays(self, bloomDay: list[int], m: int, k: int) -> int:\n",
        "        if m > len(bloomDay) / k:\n",
        "            return -1\n",
        "        \n",
        "        def canMake(days: int) -> bool:\n",
        "            bouquets = flowers = 0\n",
        "            for bloom in bloomDay:\n",
        "                if bloom <= days:\n",
        "                    flowers += 1\n",
        "                    if flowers == k:\n",
        "                        bouquets += 1\n",
        "                        if bouquets == m:\n",
        "                            break\n",
        "                        flowers = 0\n",
        "                else:\n",
        "                    flowers = 0\n",
        "            return bouquets == m\n",
        "        \n",
        "        low, high = min(bloomDay), max(bloomDay)\n",
        "        while low < high:\n",
        "            days = (low + high) // 2\n",
        "            if canMake(days):\n",
        "                high = days\n",
        "            else:\n",
        "                low = days + 1\n",
        "        return low\n"
      ],
      "metadata": {
        "id": "3Gre68pbcNUp"
      },
      "execution_count": 4,
      "outputs": []
    },
    {
      "cell_type": "markdown",
      "source": [
        "##My Thoughts about this kind of problems"
      ],
      "metadata": {
        "id": "B8SCORlpdPNg"
      }
    },
    {
      "cell_type": "code",
      "source": [
        "## We really need to learn more that we can speak out or write in the paper without hesitation when it comes to using the codes in any circumstances.\n",
        "## Below just are perfect codes in terms of using greedy algorithm.\n",
        "        def canMake(days: int) -> bool:\n",
        "            bouquets = flowers = 0\n",
        "            for bloom in bloomDay:\n",
        "                if bloom <= days:\n",
        "                    flowers += 1\n",
        "                    if flowers == k:\n",
        "                        bouquets += 1\n",
        "                        if bouquets == m:\n",
        "                            break\n",
        "                        flowers = 0\n",
        "                else:\n",
        "                    flowers = 0\n",
        "            return bouquets == m\n",
        "## Below just are perfect codes in terms of facing binary search algorithm.\n",
        "        low, high = min(bloomDay), max(bloomDay)\n",
        "        while low < high:\n",
        "            days = (low + high) // 2\n",
        "            if canMake(days):\n",
        "                high = days\n",
        "            else:\n",
        "                low = days + 1\n",
        "        return low\n",
        "## We can avoid using functions for ocuppying much room, but at the cost of sacrificing more time for running codes."
      ],
      "metadata": {
        "id": "jy3LIqzYdO3o"
      },
      "execution_count": null,
      "outputs": []
    }
  ]
}