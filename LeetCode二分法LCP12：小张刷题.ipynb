{
  "nbformat": 4,
  "nbformat_minor": 0,
  "metadata": {
    "colab": {
      "provenance": [],
      "authorship_tag": "ABX9TyM0f1AQtN7ZUYWyRQhu6MtT",
      "include_colab_link": true
    },
    "kernelspec": {
      "name": "python3",
      "display_name": "Python 3"
    },
    "language_info": {
      "name": "python"
    }
  },
  "cells": [
    {
      "cell_type": "markdown",
      "metadata": {
        "id": "view-in-github",
        "colab_type": "text"
      },
      "source": [
        "<a href=\"https://colab.research.google.com/github/Songyuhui0114/Deep-learning.Google-colab/blob/main/LeetCode%E4%BA%8C%E5%88%86%E6%B3%95LCP12%EF%BC%9A%E5%B0%8F%E5%BC%A0%E5%88%B7%E9%A2%98.ipynb\" target=\"_parent\"><img src=\"https://colab.research.google.com/assets/colab-badge.svg\" alt=\"Open In Colab\"/></a>"
      ]
    },
    {
      "cell_type": "markdown",
      "source": [
        "#LeetCode 1482：Binary Search Algorithm - Finish Texts"
      ],
      "metadata": {
        "id": "BAmKVSp2NQBm"
      }
    },
    {
      "cell_type": "markdown",
      "source": [
        "## The Fastes Codes"
      ],
      "metadata": {
        "id": "dBO5-iRxNZHA"
      }
    },
    {
      "cell_type": "code",
      "execution_count": 1,
      "metadata": {
        "id": "vc9OmNUjNECp"
      },
      "outputs": [],
      "source": [
        "class Solution:\n",
        "    def minTime(self, time: list[int], m: int) -> int:\n",
        "        minT = 0\n",
        "        if m >= len(time):\n",
        "            return minT\n",
        "        mission = sorted([t for t in time if t <= 10000])[: -m]\n",
        "        minT = int(max(mission[-1], sum(mission) // m))\n",
        "        if m >= 1000:\n",
        "            return 493942\n",
        "        while True:\n",
        "            day_cnt = 1\n",
        "            index = 0\n",
        "            work_today = []\n",
        "            sum_work_today = 0\n",
        "            xiao_yang = True\n",
        "            while index < len(time):\n",
        "                if sum_work_today + time[index] > minT:\n",
        "                    if xiao_yang:\n",
        "                        xiao_yang = False\n",
        "                        work_today.append(time[index])\n",
        "                        work_today = sorted(work_today, reverse=True)\n",
        "                        sum_work_today = sum_work_today + time[index] - work_today[0]\n",
        "                        index = index + 1\n",
        "                    else:\n",
        "                        day_cnt = day_cnt + 1\n",
        "                        xiao_yang = True\n",
        "                        work_today = []\n",
        "                        sum_work_today = 0\n",
        "                else:\n",
        "                    work_today.append(time[index])\n",
        "                    sum_work_today = sum_work_today + time[index]\n",
        "                    index = index + 1\n",
        "            if day_cnt <= m:\n",
        "                return minT\n",
        "            else:\n",
        "                minT = minT + 1"
      ]
    },
    {
      "cell_type": "markdown",
      "source": [
        "## The Least Room-Occupied Codes"
      ],
      "metadata": {
        "id": "KF8xscbGNPWm"
      }
    },
    {
      "cell_type": "code",
      "source": [
        "class Solution:\n",
        "    def minTime(self, time: list[int], m: int) -> int:\n",
        "        l,r = 0,sum(time)\n",
        "        while l<r:\n",
        "            mid = (l+r)>>1\n",
        "            if self.check(mid,time,m):\n",
        "                r = mid\n",
        "            else:\n",
        "                l = mid + 1\n",
        "        return l\n",
        "\n",
        "    def check(self, limit, cost, day):\n",
        "        use_day,total_time,max_time = 1,0,cost[0]\n",
        "        for i in cost[1:]:\n",
        "            if total_time+min(max_time,i)<= limit:\n",
        "                total_time,max_time = total_time+min(max_time,i),max(max_time,i)\n",
        "            else:\n",
        "                use_day += 1\n",
        "                total_time,max_time = 0,i\n",
        "        return use_day<=day\n",
        "\n"
      ],
      "metadata": {
        "id": "G5mwCy2FNiB8"
      },
      "execution_count": 2,
      "outputs": []
    },
    {
      "cell_type": "markdown",
      "source": [
        "##The Codes Given By The LeetCode Platform"
      ],
      "metadata": {
        "id": "Y-W_4HCUNkxd"
      }
    },
    {
      "cell_type": "code",
      "source": [
        "class Solution:\n",
        "    def minTime(self, time: list[int], m: int) -> int:\n",
        "        minT = 0\n",
        "        if m >= len(time):\n",
        "            return minT\n",
        "        mission = sorted([t for t in time if t <= 10000])[: -m]\n",
        "        minT = int(max(mission[-1], sum(mission) // m))\n",
        "        if m >= 1000:\n",
        "            return 493942\n",
        "        while True:\n",
        "            day_cnt = 1\n",
        "            index = 0\n",
        "            work_today = []\n",
        "            sum_work_today = 0\n",
        "            xiao_yang = True\n",
        "            while index < len(time):\n",
        "                if sum_work_today + time[index] > minT:\n",
        "                    if xiao_yang:\n",
        "                        xiao_yang = False\n",
        "                        work_today.append(time[index])\n",
        "                        work_today = sorted(work_today, reverse=True)\n",
        "                        sum_work_today = sum_work_today + time[index] - work_today[0]\n",
        "                        index = index + 1\n",
        "                    else:\n",
        "                        day_cnt = day_cnt + 1\n",
        "                        xiao_yang = True\n",
        "                        work_today = []\n",
        "                        sum_work_today = 0\n",
        "                else:\n",
        "                    work_today.append(time[index])\n",
        "                    sum_work_today = sum_work_today + time[index]\n",
        "                    index = index + 1\n",
        "            if day_cnt <= m:\n",
        "                return minT\n",
        "            else:\n",
        "                minT = minT + 1"
      ],
      "metadata": {
        "id": "F7Uardj0NvMj"
      },
      "execution_count": 3,
      "outputs": []
    },
    {
      "cell_type": "markdown",
      "source": [
        "##The Codes Made By LeetCode-Solutions\n"
      ],
      "metadata": {
        "id": "iH3YPyp8Nvmy"
      }
    },
    {
      "cell_type": "code",
      "source": [
        "class Solution:\n",
        "    def minTime(self, time: list[int], m: int) -> int:\n",
        "        l,r = 0,sum(time)\n",
        "        while l<r:\n",
        "            mid = (l+r)>>1\n",
        "            if self.check(mid,time,m):\n",
        "                r = mid\n",
        "            else:\n",
        "                l = mid + 1\n",
        "        return l\n",
        "\n",
        "    def check(self, limit, cost, day):\n",
        "        use_day,total_time,max_time = 1,0,cost[0]\n",
        "        for i in cost[1:]:\n",
        "            if total_time+min(max_time,i)<= limit:\n",
        "                total_time,max_time = total_time+min(max_time,i),max(max_time,i)\n",
        "            else:\n",
        "                use_day += 1\n",
        "                total_time,max_time = 0,i\n",
        "        return use_day<=day\n"
      ],
      "metadata": {
        "id": "tA1ct_uSN6oI"
      },
      "execution_count": 4,
      "outputs": []
    },
    {
      "cell_type": "markdown",
      "source": [
        "##My Thoughts about this kind of problems"
      ],
      "metadata": {
        "id": "BTidbUx3N68w"
      }
    },
    {
      "cell_type": "code",
      "source": [
        "## We really need to learn more that we can speak out or write in the paper without hesitation when it comes to using the codes in any circumstances.\n",
        "\n",
        "## Below just are perfect codes in terms of using greedy algorithm.\n",
        "    def check(self, limit, cost, day):\n",
        "        use_day,total_time,max_time = 1,0,cost[0]\n",
        "        for i in cost[1:]:\n",
        "            if total_time+min(max_time,i)<= limit:\n",
        "                total_time,max_time = total_time+min(max_time,i),max(max_time,i)\n",
        "            else:\n",
        "                use_day += 1\n",
        "                total_time,max_time = 0,i\n",
        "        return use_day<=day\n",
        "## Below just are perfect codes in terms of facing binary search algorithm.\n",
        "        l,r = 0,sum(time)\n",
        "        while l<r:\n",
        "            mid = (l+r)>>1\n",
        "            if self.check(mid,time,m):\n",
        "                r = mid\n",
        "            else:\n",
        "                l = mid + 1\n",
        "        return l\n",
        "## We can avoid using functions for ocuppying much room, but at the cost of sacrificing more time for running codes."
      ],
      "metadata": {
        "colab": {
          "base_uri": "https://localhost:8080/",
          "height": 137
        },
        "id": "CT_1RYzPOAVA",
        "outputId": "8fa122e5-bd95-4f22-fc2d-b84e34325250"
      },
      "execution_count": 5,
      "outputs": [
        {
          "output_type": "error",
          "ename": "IndentationError",
          "evalue": "ignored",
          "traceback": [
            "\u001b[0;36m  File \u001b[0;32m\"<ipython-input-5-838404257865>\"\u001b[0;36m, line \u001b[0;32m4\u001b[0m\n\u001b[0;31m    def check(self, limit, cost, day):\u001b[0m\n\u001b[0m    ^\u001b[0m\n\u001b[0;31mIndentationError\u001b[0m\u001b[0;31m:\u001b[0m unexpected indent\n"
          ]
        }
      ]
    }
  ]
}