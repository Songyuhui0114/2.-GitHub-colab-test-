{
  "nbformat": 4,
  "nbformat_minor": 0,
  "metadata": {
    "colab": {
      "provenance": [],
      "authorship_tag": "ABX9TyMk1Jghv+cZCNPKVCzOAA/I",
      "include_colab_link": true
    },
    "kernelspec": {
      "name": "python3",
      "display_name": "Python 3"
    },
    "language_info": {
      "name": "python"
    }
  },
  "cells": [
    {
      "cell_type": "markdown",
      "metadata": {
        "id": "view-in-github",
        "colab_type": "text"
      },
      "source": [
        "<a href=\"https://colab.research.google.com/github/Songyuhui0114/Deep-learning.Google-colab/blob/LeetCoding/LeetCode%E5%8A%A8%E6%80%81%E8%A7%84%E5%88%9210%EF%BC%9A%E6%AD%A3%E5%88%99%E8%A1%A8%E8%BE%BE%E5%BC%8F.ipynb\" target=\"_parent\"><img src=\"https://colab.research.google.com/assets/colab-badge.svg\" alt=\"Open In Colab\"/></a>"
      ]
    },
    {
      "cell_type": "markdown",
      "source": [
        "#LeetCode 44：Dynamic Programming - Regular Expressions"
      ],
      "metadata": {
        "id": "xtIy584n5mZ6"
      }
    },
    {
      "cell_type": "markdown",
      "source": [
        "##The Best Codes After Refined"
      ],
      "metadata": {
        "id": "Cz4U9Y0A5zr3"
      }
    },
    {
      "cell_type": "code",
      "execution_count": 1,
      "metadata": {
        "id": "XlWMxWiG5f8P"
      },
      "outputs": [],
      "source": [
        "class Solution:\n",
        "    def isMatch(self, s: str, p: str) -> bool:\n",
        "        m, n = len(s), len(p)\n",
        "\n",
        "        def matches(i: int, j: int) -> bool:\n",
        "            if i == 0:\n",
        "                return False\n",
        "            if p[j - 1] == '.':\n",
        "                return True\n",
        "            return s[i - 1] == p[j - 1]\n",
        "\n",
        "        f = [[False] * (n + 1) for _ in range(m + 1)]\n",
        "        f[0][0] = True\n",
        "        for i in range(m + 1):\n",
        "            for j in range(1, n + 1):\n",
        "                if p[j - 1] == '*':\n",
        "                    f[i][j] |= f[i][j - 2]\n",
        "                    if matches(i, j - 1):\n",
        "                        f[i][j] |= f[i - 1][j]\n",
        "                else:\n",
        "                    if matches(i, j):\n",
        "                        f[i][j] |= f[i - 1][j - 1]\n",
        "        return f[m][n]\n"
      ]
    }
  ]
}