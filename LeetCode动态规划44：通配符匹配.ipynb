{
  "nbformat": 4,
  "nbformat_minor": 0,
  "metadata": {
    "colab": {
      "provenance": [],
      "authorship_tag": "ABX9TyOXMqf8+vPSzbdndW4IScfN",
      "include_colab_link": true
    },
    "kernelspec": {
      "name": "python3",
      "display_name": "Python 3"
    },
    "language_info": {
      "name": "python"
    }
  },
  "cells": [
    {
      "cell_type": "markdown",
      "metadata": {
        "id": "view-in-github",
        "colab_type": "text"
      },
      "source": [
        "<a href=\"https://colab.research.google.com/github/Songyuhui0114/Deep-learning.Google-colab/blob/LeetCoding/LeetCode%E5%8A%A8%E6%80%81%E8%A7%84%E5%88%9244%EF%BC%9A%E9%80%9A%E9%85%8D%E7%AC%A6%E5%8C%B9%E9%85%8D.ipynb\" target=\"_parent\"><img src=\"https://colab.research.google.com/assets/colab-badge.svg\" alt=\"Open In Colab\"/></a>"
      ]
    },
    {
      "cell_type": "markdown",
      "source": [
        "#LeetCode 44：Dynamic Programming - Match Litters "
      ],
      "metadata": {
        "id": "_lqTQle5DSNG"
      }
    },
    {
      "cell_type": "markdown",
      "source": [
        "##The Fastest Codes"
      ],
      "metadata": {
        "id": "6obtnfl0DoBn"
      }
    },
    {
      "cell_type": "code",
      "execution_count": 1,
      "metadata": {
        "id": "dAT-z7OqC-gN"
      },
      "outputs": [],
      "source": [
        "class Solution:\n",
        "    def isMatch(self, s: str, p: str) -> bool:\n",
        "        \"\"\"2020-04-21 贪心算法\"\"\"\n",
        "        # jstar代表模式串p中最后一次出现的星号的索引\n",
        "        # istar代表s[:istar]这些字符全被jstar位置的这个星搞定了\n",
        "        i, j = 0, 0\n",
        "        iStar, jStar = -1, -1\n",
        "        m, n = len(s), len(p)\n",
        "\n",
        "        while i < m:\n",
        "            if j < n and (s[i] == p[j] or p[j] == '?'):\n",
        "                i += 1\n",
        "                j += 1\n",
        "            elif j < n and p[j] == '*':\n",
        "                iStar = i\n",
        "                jStar = j\n",
        "                j += 1\n",
        "            elif iStar >= 0:\n",
        "                iStar += 1\n",
        "                i = iStar\n",
        "                j = jStar + 1\n",
        "            else:\n",
        "                return False\n",
        "\n",
        "\n",
        "        #字符串s已经被匹配完成，从此时开始j只能为*号才行\n",
        "        while j < n and p[j] == '*':\n",
        "            j += 1\n",
        "        return j == n\n",
        "#大佬的python版本 这个题目的回溯就只有最外面一层(也可以说是最后一个*那一层)\n",
        "#因为如果最后一个*无法解决的问题 前面的*更无法解决(贪心)\n",
        "#我这里也给出了istar和jstar的意义"
      ]
    },
    {
      "cell_type": "markdown",
      "source": [
        "##The Least Room-occupied Codes"
      ],
      "metadata": {
        "id": "GTYTpYfwDpzv"
      }
    },
    {
      "cell_type": "code",
      "source": [
        "class Solution:\n",
        "    def isMatch(self, s: str, p: str) -> bool:\n",
        "        i, j = 0, 0\n",
        "        iStar, jStar = -1, -1\n",
        "        m, n = len(s), len(p)\n",
        "\n",
        "        while i < m:\n",
        "            if j < n and (s[i] == p[j] or p[j] == '?'):\n",
        "                i += 1\n",
        "                j += 1\n",
        "            elif j < n and p[j] == '*':\n",
        "                iStar = i\n",
        "                jStar = j\n",
        "                j += 1\n",
        "            elif iStar >= 0:\n",
        "                iStar += 1\n",
        "                i = iStar\n",
        "                j = jStar + 1\n",
        "            else:\n",
        "                return False\n",
        "\n",
        "\n",
        "        #字符串s已经被匹配完成，从此时开始j只能为*号才行\n",
        "        while j < n and p[j] == '*':\n",
        "            j += 1\n",
        "        return j == n\n",
        "\n"
      ],
      "metadata": {
        "id": "fH-WXf6lDtcr"
      },
      "execution_count": 2,
      "outputs": []
    },
    {
      "cell_type": "markdown",
      "source": [
        "##My Thoughts About This Kind Of Problems"
      ],
      "metadata": {
        "id": "iieAdyKiDtDH"
      }
    },
    {
      "cell_type": "code",
      "source": [
        "class Solution:\n",
        "    def isMatch(self, s: str, p: str) -> bool:\n",
        "        m, n = len(s), len(p)\n",
        "\n",
        "        dp = [[False] * (n + 1) for _ in range(m + 1)]\n",
        "        dp[0][0] = True\n",
        "        for i in range(1, n + 1):\n",
        "            if p[i - 1] == '*':\n",
        "                dp[0][i] = True\n",
        "            else:\n",
        "                break\n",
        "        \n",
        "        for i in range(1, m + 1):\n",
        "            for j in range(1, n + 1):\n",
        "                if p[j - 1] == '*':\n",
        "                    dp[i][j] = dp[i][j - 1] | dp[i - 1][j]\n",
        "                elif p[j - 1] == '?' or s[i - 1] == p[j - 1]:\n",
        "                    dp[i][j] = dp[i - 1][j - 1]\n",
        "                \n",
        "        return dp[m][n]\n",
        "#However, it was given by LeetCode-Solution. (I just couldn't find better codes to replace the codes for its clearity.)"
      ],
      "metadata": {
        "id": "0rkmsMyxD0B5"
      },
      "execution_count": null,
      "outputs": []
    }
  ]
}