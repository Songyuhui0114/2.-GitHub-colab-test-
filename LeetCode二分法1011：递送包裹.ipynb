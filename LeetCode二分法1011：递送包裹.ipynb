{
  "nbformat": 4,
  "nbformat_minor": 0,
  "metadata": {
    "colab": {
      "provenance": [],
      "authorship_tag": "ABX9TyNkDdl5ASwJC+9xgUpIyMm9",
      "include_colab_link": true
    },
    "kernelspec": {
      "name": "python3",
      "display_name": "Python 3"
    },
    "language_info": {
      "name": "python"
    }
  },
  "cells": [
    {
      "cell_type": "markdown",
      "metadata": {
        "id": "view-in-github",
        "colab_type": "text"
      },
      "source": [
        "<a href=\"https://colab.research.google.com/github/Songyuhui0114/Deep-learning.Google-colab/blob/main/LeetCode%E4%BA%8C%E5%88%86%E6%B3%951011%EF%BC%9A%E9%80%92%E9%80%81%E5%8C%85%E8%A3%B9.ipynb\" target=\"_parent\"><img src=\"https://colab.research.google.com/assets/colab-badge.svg\" alt=\"Open In Colab\"/></a>"
      ]
    },
    {
      "cell_type": "markdown",
      "source": [
        "#LeetCode 1482：Binary Search Algorithm - Deliver Packages"
      ],
      "metadata": {
        "id": "djlqiZU5h-mi"
      }
    },
    {
      "cell_type": "markdown",
      "source": [
        "## The Fastes Codes"
      ],
      "metadata": {
        "id": "StyrG1r8iFeT"
      }
    },
    {
      "cell_type": "code",
      "source": [
        "#Same as the codes given by the leetcode platform"
      ],
      "metadata": {
        "id": "bSlRg3mSiIkI"
      },
      "execution_count": 16,
      "outputs": []
    },
    {
      "cell_type": "markdown",
      "source": [
        "## The Least Room-Occupied Codes"
      ],
      "metadata": {
        "id": "srFkBK95iI1O"
      }
    },
    {
      "cell_type": "code",
      "source": [
        "class Solution:\n",
        "    def shipWithinDays(self, weights: list[int], days: int) -> int:\n",
        "        def calDays(weights, x):\n",
        "            days = 0\n",
        "            i = 0\n",
        "            while i < len(weights):\n",
        "                cap = x\n",
        "                while i < len(weights) and cap >= weights[i]:\n",
        "                    cap -= weights[i]\n",
        "                    i += 1\n",
        "                days += 1\n",
        "            return days\n",
        "\n",
        "        l, r = max(weights), sum(weights)\n",
        "        while l <= r:\n",
        "            mid = l + (r - l) // 2\n",
        "            if calDays(weights, mid) <= days:\n",
        "                r = mid - 1\n",
        "            else:\n",
        "                l = mid + 1\n",
        "        return l"
      ],
      "metadata": {
        "id": "vTfRkwRIiN-c"
      },
      "execution_count": 10,
      "outputs": []
    },
    {
      "cell_type": "markdown",
      "source": [
        "##The Codes made by LeetCode-Solutions"
      ],
      "metadata": {
        "id": "w0EOYRpkiOUd"
      }
    },
    {
      "cell_type": "code",
      "source": [
        "class Solution:\n",
        "    def shipWithinDays(self, weights: list[int], days: int) -> int:\n",
        "        # 确定二分查找左右边界\n",
        "        left, right = max(weights), sum(weights)\n",
        "        while left < right:\n",
        "            mid = (left + right) // 2\n",
        "            # need 为需要运送的天数\n",
        "            # cur 为当前这一天已经运送的包裹重量之和\n",
        "            need, cur = 1, 0\n",
        "            for weight in weights:\n",
        "                if cur + weight > mid:\n",
        "                    need += 1\n",
        "                    cur = 0\n",
        "                cur += weight\n",
        "            \n",
        "            if need <= days:\n",
        "                right = mid\n",
        "            else:\n",
        "                left = mid + 1\n",
        "        \n",
        "        return left"
      ],
      "metadata": {
        "id": "pilXGueeiRpD"
      },
      "execution_count": 7,
      "outputs": []
    },
    {
      "cell_type": "markdown",
      "source": [
        "##The Codes Given By The LeetCode Platform"
      ],
      "metadata": {
        "id": "6demy6Cmk8m_"
      }
    },
    {
      "cell_type": "code",
      "source": [
        "class Solution:\n",
        "    def shipWithinDays(self, weights: list[int], days: int) -> int:\n",
        "  \n",
        "        def function(x):\n",
        "            res_day = 1\n",
        "            can_vali = x\n",
        "            for weight in weights:\n",
        "                if can_vali >= weight:\n",
        "                    can_vali -= weight\n",
        "                else:\n",
        "                    res_day += 1\n",
        "                    can_vali = x\n",
        "                    can_vali -= weight\n",
        "            return res_day\n",
        "\n",
        "        left = max(weights)\n",
        "        right = sum(weights) + 1\n",
        "        while left < right:\n",
        "            mid = (left + right) // 2\n",
        "            if function(mid) <= days:\n",
        "                right = mid\n",
        "            else:\n",
        "                left = mid + 1\n",
        "        return left"
      ],
      "metadata": {
        "id": "2RFFcEgFk609"
      },
      "execution_count": 8,
      "outputs": []
    },
    {
      "cell_type": "markdown",
      "source": [
        "##My Thoughts about this kind of problems"
      ],
      "metadata": {
        "id": "ajwXBhyul4Qe"
      }
    },
    {
      "cell_type": "code",
      "source": [
        "## We really need to learn more that we can speak out or write in the paper without hesitation when it comes to using the codes in any circumstances.\n",
        "## Below just are perfect codes in terms of using greedy algorithm. May be a little different from previous codes, for their makers' reverse thinking.\n",
        "        def function(x):\n",
        "            res_day = 1\n",
        "            can_vali = x\n",
        "            for weight in weights:\n",
        "                if can_vali >= weight:\n",
        "                    can_vali -= weight\n",
        "                else:\n",
        "                    res_day += 1\n",
        "                    can_vali = x\n",
        "                    can_vali -= weight\n",
        "            return res_day\n",
        "## Below just are perfect codes in terms of using greedy algorithm.\n",
        "            need, cur = 1, 0\n",
        "            for weight in weights:\n",
        "                if cur + weight > mid:\n",
        "                    need += 1\n",
        "                    cur = 0\n",
        "                cur += weight\n",
        "## Below just are perfect codes in terms of facing binary search algorithm.\n",
        "        left = max(weights)\n",
        "        right = sum(weights) + 1\n",
        "        while left < right:\n",
        "            mid = (left + right) // 2\n",
        "            if function(mid) <= days:\n",
        "                right = mid\n",
        "            else:\n",
        "                left = mid + 1\n",
        "        return left\n",
        "## We can avoid using functions for ocuppying much room, but at the cost of sacrificing more time for running codes."
      ],
      "metadata": {
        "id": "WxqljFT7l7t0"
      },
      "execution_count": null,
      "outputs": []
    }
  ]
}