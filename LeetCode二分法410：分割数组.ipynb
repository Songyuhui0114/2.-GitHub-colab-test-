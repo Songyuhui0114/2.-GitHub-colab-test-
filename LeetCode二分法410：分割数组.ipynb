{
  "nbformat": 4,
  "nbformat_minor": 0,
  "metadata": {
    "colab": {
      "provenance": [],
      "authorship_tag": "ABX9TyNnl2y0h7p7Hqj2bYRDl8SO",
      "include_colab_link": true
    },
    "kernelspec": {
      "name": "python3",
      "display_name": "Python 3"
    },
    "language_info": {
      "name": "python"
    }
  },
  "cells": [
    {
      "cell_type": "markdown",
      "metadata": {
        "id": "view-in-github",
        "colab_type": "text"
      },
      "source": [
        "<a href=\"https://colab.research.google.com/github/Songyuhui0114/Deep-learning.Google-colab/blob/main/LeetCode%E4%BA%8C%E5%88%86%E6%B3%95410%EF%BC%9A%E5%88%86%E5%89%B2%E6%95%B0%E7%BB%84.ipynb\" target=\"_parent\"><img src=\"https://colab.research.google.com/assets/colab-badge.svg\" alt=\"Open In Colab\"/></a>"
      ]
    },
    {
      "cell_type": "markdown",
      "source": [
        "#LeetCode 410：Binary Search Algorithm - Cut Arrays"
      ],
      "metadata": {
        "id": "5loHCjg7J6IS"
      }
    },
    {
      "cell_type": "markdown",
      "source": [
        "##The Fastest Codes"
      ],
      "metadata": {
        "id": "7E0FOurHJyOC"
      }
    },
    {
      "cell_type": "code",
      "execution_count": 17,
      "metadata": {
        "id": "Dw8MvGWUILtg"
      },
      "outputs": [],
      "source": [
        "class Solution:\n",
        "    def splitArray(self, nums: list[int], k: int) -> int:\n",
        "        def helper(ans):\n",
        "            count = 1\n",
        "            res = 0\n",
        "            for i in nums:\n",
        "                if (res + i) > ans:\n",
        "                    count += 1\n",
        "                    res = i\n",
        "                else:\n",
        "                    res += i\n",
        "            return count\n",
        "        l = max(nums)\n",
        "        r = sum(nums)\n",
        "        while l <= r:\n",
        "            mid = (l + r) // 2\n",
        "            if l == r:\n",
        "                return mid\n",
        "            if helper(mid) <= k:\n",
        "                r = mid\n",
        "            else:\n",
        "                l = mid + 1"
      ]
    },
    {
      "cell_type": "markdown",
      "source": [
        "##The least room-occupied Codes"
      ],
      "metadata": {
        "id": "PhfjqKp8Ku74"
      }
    },
    {
      "cell_type": "code",
      "source": [
        "class Solution:\n",
        "    def splitArray(self, nums: list[int], k: int) -> int:\n",
        "        left = max(nums)\n",
        "        right = sum(nums)\n",
        "\n",
        "        while left < right:\n",
        "            mid = (right + left) // 2\n",
        "\n",
        "            cur_sum = 0\n",
        "            num_splits = 0\n",
        "\n",
        "            for n in nums:\n",
        "                if cur_sum + n <= mid:\n",
        "                    cur_sum += n\n",
        "                else:\n",
        "                    cur_sum = n\n",
        "                    num_splits += 1\n",
        "            \n",
        "            num_splits += 1\n",
        "            \n",
        "            if num_splits <= k:\n",
        "                right = mid\n",
        "            else:\n",
        "                left = mid + 1\n",
        "        \n",
        "        return left\n"
      ],
      "metadata": {
        "id": "OZ_AfA8dJRpA"
      },
      "execution_count": 18,
      "outputs": []
    },
    {
      "cell_type": "markdown",
      "source": [
        "##My Thoughts about this kind of problems"
      ],
      "metadata": {
        "id": "gccyqidFMATs"
      }
    },
    {
      "cell_type": "code",
      "source": [
        "## We really need to learn more that we can speak out or write in the paper without hesitation when it comes to using the codes in any circumstances.\n",
        "## Below just are perfect codes in terms of using greedy algorithm.\n",
        "        def helper(ans):\n",
        "            count = 1\n",
        "            res = 0\n",
        "            for i in nums:\n",
        "                if (res + i) > ans:\n",
        "                    count += 1\n",
        "                    res = i\n",
        "                else:\n",
        "                    res += i\n",
        "            return count\n",
        "## Below just are perfect codes in terms of facing binary search algorithm.\n",
        "        l = max(nums)\n",
        "        r = sum(nums)\n",
        "        while l <= r:\n",
        "            mid = (l + r) // 2\n",
        "            if l == r:\n",
        "                return mid\n",
        "            if helper(mid) <= k:\n",
        "                r = mid\n",
        "            else:\n",
        "                l = mid + 1\n",
        "## We can avoid using functions for ocuppying much room, but at the cost of sacrificing more time for running codes."
      ],
      "metadata": {
        "id": "xCHGKPhCMBzm"
      },
      "execution_count": null,
      "outputs": []
    }
  ]
}