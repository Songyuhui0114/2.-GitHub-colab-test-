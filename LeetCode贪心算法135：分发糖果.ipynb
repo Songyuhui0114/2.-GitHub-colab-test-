{
  "nbformat": 4,
  "nbformat_minor": 0,
  "metadata": {
    "colab": {
      "provenance": [],
      "authorship_tag": "ABX9TyPWJYkKKqxxoVk0PqnqMVKy",
      "include_colab_link": true
    },
    "kernelspec": {
      "name": "python3",
      "display_name": "Python 3"
    },
    "language_info": {
      "name": "python"
    }
  },
  "cells": [
    {
      "cell_type": "markdown",
      "metadata": {
        "id": "view-in-github",
        "colab_type": "text"
      },
      "source": [
        "<a href=\"https://colab.research.google.com/github/Songyuhui0114/Deep-learning.Google-colab/blob/LeetCoding/LeetCode%E8%B4%AA%E5%BF%83%E7%AE%97%E6%B3%95135%EF%BC%9A%E5%88%86%E5%8F%91%E7%B3%96%E6%9E%9C.ipynb\" target=\"_parent\"><img src=\"https://colab.research.google.com/assets/colab-badge.svg\" alt=\"Open In Colab\"/></a>"
      ]
    },
    {
      "cell_type": "markdown",
      "source": [
        "#LeetCode 44：Dynamic Programming - Match Litters "
      ],
      "metadata": {
        "id": "cK92ielNNWnH"
      }
    },
    {
      "cell_type": "markdown",
      "source": [
        "##The Fastest Codes"
      ],
      "metadata": {
        "id": "sHMk2K4oNWPn"
      }
    },
    {
      "cell_type": "code",
      "execution_count": 1,
      "metadata": {
        "id": "fJriI_ivNCYH"
      },
      "outputs": [],
      "source": [
        "class Solution:\n",
        "    def candy(self, ratings: list[int]) -> int:\n",
        "        candy = [1] * len(ratings)\n",
        "\n",
        "        for i in range(1, len(ratings)):\n",
        "            if ratings[i] > ratings[i-1]:\n",
        "                candy[i] = candy[i-1] + 1\n",
        "        for i in range(len(ratings)-2, -1, -1):\n",
        "            if ratings[i] > ratings[i+1]:\n",
        "                candy[i] = max(candy[i], candy[i+1]+1)\n",
        "        return sum(candy)\n",
        "\n",
        "\n",
        "\n",
        "\n",
        "\n",
        "        # if len(ratings) == 0:\n",
        "        #     return 0\n",
        "        # elif len(ratings) == 1:\n",
        "        #     return 1\n",
        "        \n",
        "        # if ratings[0] > ratings[1]:\n",
        "        #     cnt, result = 2, 2\n",
        "        # else:\n",
        "        #     cnt, result = 1, 1\n",
        "\n",
        "        # for i in range(1, len(ratings)):\n",
        "        #     if ratings[i] > ratings[i-1]:\n",
        "        #         result += cnt + 1\n",
        "        #         cnt += 1\n",
        "        #     else:\n",
        "        #         result += 1\n",
        "        #         cnt = 1\n",
        "        # return result"
      ]
    },
    {
      "cell_type": "markdown",
      "source": [
        "##The Least Room-Occupied Codes"
      ],
      "metadata": {
        "id": "GtOM8OEhNXny"
      }
    },
    {
      "cell_type": "code",
      "source": [
        "class Solution:\n",
        "    def candy(self, ratings: list[int]) -> int:\n",
        "        candy=[1]*len(ratings)\n",
        "        for i in range(1,len(ratings)):\n",
        "            if ratings[i]>ratings[i-1]:\n",
        "                candy[i]=candy[i-1]+1\n",
        "        for i in range(len(ratings)-2,-1,-1):\n",
        "            if ratings[i]>ratings[i+1]:\n",
        "                candy[i]=max(candy[i],candy[i+1]+1)\n",
        "        return sum(candy)\n",
        "            \n",
        "            \n",
        "            "
      ],
      "metadata": {
        "id": "C_yuRWQNNYbU"
      },
      "execution_count": 2,
      "outputs": []
    },
    {
      "cell_type": "markdown",
      "source": [
        "##My Thoughts About This Kind Of Problems"
      ],
      "metadata": {
        "id": "Vl02lMV8NYov"
      }
    },
    {
      "cell_type": "code",
      "source": [
        "class Solution:\n",
        "    def candy(self, ratings: list[int]) -> int:\n",
        "        left = [1 for _ in range(len(ratings))]\n",
        "        right = left[:]\n",
        "        for i in range(1, len(ratings)):\n",
        "            if ratings[i] > ratings[i - 1]: left[i] = left[i - 1] + 1\n",
        "        count = left[-1]\n",
        "        for i in range(len(ratings) - 2, -1, -1):\n",
        "            if ratings[i] > ratings[i + 1]: right[i] = right[i + 1] + 1\n",
        "            count += max(left[i], right[i])\n",
        "        return count\n",
        "# May be a little different and difficult compared with those perfect codes."
      ],
      "metadata": {
        "id": "rcFUCbjTNcG1"
      },
      "execution_count": 3,
      "outputs": []
    }
  ]
}