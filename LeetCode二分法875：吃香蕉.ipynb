{
  "nbformat": 4,
  "nbformat_minor": 0,
  "metadata": {
    "colab": {
      "provenance": [],
      "authorship_tag": "ABX9TyN2y7xD88tXd/k7GuK/0YqI",
      "include_colab_link": true
    },
    "kernelspec": {
      "name": "python3",
      "display_name": "Python 3"
    },
    "language_info": {
      "name": "python"
    }
  },
  "cells": [
    {
      "cell_type": "markdown",
      "metadata": {
        "id": "view-in-github",
        "colab_type": "text"
      },
      "source": [
        "<a href=\"https://colab.research.google.com/github/Songyuhui0114/Deep-learning.Google-colab/blob/main/LeetCode%E4%BA%8C%E5%88%86%E6%B3%95875%EF%BC%9A%E5%90%83%E9%A6%99%E8%95%89.ipynb\" target=\"_parent\"><img src=\"https://colab.research.google.com/assets/colab-badge.svg\" alt=\"Open In Colab\"/></a>"
      ]
    },
    {
      "cell_type": "markdown",
      "source": [
        "#LeetCode 875：Binary Search Algorithm - Eat Bananas"
      ],
      "metadata": {
        "id": "GAjXKw0y04Vl"
      }
    },
    {
      "cell_type": "markdown",
      "source": [
        "## The Fastes Codes"
      ],
      "metadata": {
        "id": "9DUU4iEQ1Fch"
      }
    },
    {
      "cell_type": "code",
      "execution_count": null,
      "metadata": {
        "id": "8zMpAo19sdaQ"
      },
      "outputs": [],
      "source": [
        "class Solution:\n",
        "    def minEatingSpeed(self, piles: list[int], h: int) -> int:\n",
        "        num, max_p = len(piles), max(piles)\n",
        "        if num == h: return max_p\n",
        "        sum_p = sum(piles)\n",
        "        left = (sum_p-1)//h + 1\n",
        "        right = min(max_p, (sum_p-num-1)//(h-num)+1)\n",
        "        def check(tag):\n",
        "            total = 0\n",
        "            for p in piles:\n",
        "                total += (p-1)//tag + 1\n",
        "                if total > h:\n",
        "                    return False\n",
        "            return True\n",
        "        while left < right:\n",
        "            mid = (left+right)>>1\n",
        "            if check(mid):\n",
        "                right = mid\n",
        "            else:\n",
        "                left = mid + 1\n",
        "        return left\n",
        "\n",
        "\n",
        "        \n"
      ]
    },
    {
      "cell_type": "markdown",
      "source": [
        "## The Least Room-Occupied Codes"
      ],
      "metadata": {
        "id": "0i55wYTA1GZE"
      }
    },
    {
      "cell_type": "code",
      "source": [
        "class Solution:\n",
        "    def minEatingSpeed(self, piles: list[int], h: int) -> int:\n",
        "        def check(n):\n",
        "            count = 0\n",
        "            for i in piles:\n",
        "                if i % n == 0:\n",
        "                    count = count + (i // n)\n",
        "                else:\n",
        "                    count = count + (i // n) + 1\n",
        "            return count\n",
        "        \n",
        "        left = 1\n",
        "        right = max(piles)\n",
        "        while left < right:\n",
        "            mid = (left + right) // 2\n",
        "            if check(mid) <= h:\n",
        "                right = mid\n",
        "            else:\n",
        "                left = mid + 1\n",
        "        return left"
      ],
      "metadata": {
        "id": "dC58FqAH1JyT"
      },
      "execution_count": null,
      "outputs": []
    },
    {
      "cell_type": "markdown",
      "source": [
        "##The Codes made by LeetCode-Solutions"
      ],
      "metadata": {
        "id": "Xn2vhBDM1KBt"
      }
    },
    {
      "cell_type": "code",
      "source": [
        "class Solution:\n",
        "    def minEatingSpeed(self, piles: list[int], h: int) -> int:\n",
        "        return bisect_left(range(max(piles)), -h, 1, key=lambda k: -sum((pile + k - 1) // k for pile in piles))"
      ],
      "metadata": {
        "id": "oQfcQNvu1PAR"
      },
      "execution_count": null,
      "outputs": []
    },
    {
      "cell_type": "markdown",
      "source": [
        "##The Codes Given By The LeetCode Platform"
      ],
      "metadata": {
        "id": "Pr7pmO1e1PYp"
      }
    },
    {
      "cell_type": "code",
      "source": [
        "#Same as the fastest codes"
      ],
      "metadata": {
        "id": "VC27gqVJ1UJT"
      },
      "execution_count": null,
      "outputs": []
    },
    {
      "cell_type": "markdown",
      "source": [
        "##My Thoughts about this kind of problems"
      ],
      "metadata": {
        "id": "Dkj81JpQ1Uc1"
      }
    },
    {
      "cell_type": "code",
      "source": [
        "## We really need to learn more that we can speak out or write in the paper without hesitation when it comes to using the codes in any circumstances.\n",
        "## Below just are perfect codes in terms of using greedy algorithm.\n",
        "        def check(n):\n",
        "            count = 0\n",
        "            for i in piles:\n",
        "                if i % n == 0:\n",
        "                    count = count + (i // n)\n",
        "                else:\n",
        "                    count = count + (i // n) + 1\n",
        "            return count\n",
        "## Below just are perfect codes in terms of facing binary search algorithm.\n",
        "        left = 1\n",
        "        right = max(piles)\n",
        "        while left < right:\n",
        "            mid = (left + right) // 2\n",
        "            if check(mid) <= h:\n",
        "                right = mid\n",
        "            else:\n",
        "                left = mid + 1\n",
        "        return left      \n",
        "## We can avoid using functions for ocuppying much room, but at the cost of sacrificing more time for running codes.      "
      ],
      "metadata": {
        "id": "wsauy1b-1YHw"
      },
      "execution_count": null,
      "outputs": []
    }
  ]
}